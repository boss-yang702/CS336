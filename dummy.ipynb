{
 "cells": [
  {
   "cell_type": "code",
   "execution_count": 19,
   "id": "ce7bb756",
   "metadata": {},
   "outputs": [
    {
     "name": "stdout",
     "output_type": "stream",
     "text": [
      "tensor([1.0000e+00, 2.5119e-02, 6.3096e-04])\n",
      "tensor([1.0000e+00, 2.5119e-02, 6.3096e-04])\n"
     ]
    },
    {
     "data": {
      "text/plain": [
       "tensor([[[ 1.0000e+00,  1.0000e+00,  1.0000e+00],\n",
       "         [ 5.4030e-01,  9.9968e-01,  1.0000e+00],\n",
       "         [-4.1615e-01,  9.9874e-01,  1.0000e+00],\n",
       "         [-9.8999e-01,  9.9716e-01,  1.0000e+00],\n",
       "         [-6.5364e-01,  9.9496e-01,  1.0000e+00],\n",
       "         [ 2.8366e-01,  9.9212e-01,  1.0000e+00],\n",
       "         [ 9.6017e-01,  9.8866e-01,  9.9999e-01],\n",
       "         [ 7.5390e-01,  9.8458e-01,  9.9999e-01],\n",
       "         [-1.4550e-01,  9.7988e-01,  9.9999e-01],\n",
       "         [-9.1113e-01,  9.7455e-01,  9.9998e-01]],\n",
       "\n",
       "        [[ 0.0000e+00,  0.0000e+00,  0.0000e+00],\n",
       "         [ 8.4147e-01,  2.5116e-02,  6.3096e-04],\n",
       "         [ 9.0930e-01,  5.0217e-02,  1.2619e-03],\n",
       "         [ 1.4112e-01,  7.5285e-02,  1.8929e-03],\n",
       "         [-7.5680e-01,  1.0031e-01,  2.5238e-03],\n",
       "         [-9.5892e-01,  1.2526e-01,  3.1548e-03],\n",
       "         [-2.7942e-01,  1.5014e-01,  3.7857e-03],\n",
       "         [ 6.5699e-01,  1.7493e-01,  4.4167e-03],\n",
       "         [ 9.8936e-01,  1.9960e-01,  5.0476e-03],\n",
       "         [ 4.1212e-01,  2.2415e-01,  5.6786e-03]]])"
      ]
     },
     "execution_count": 19,
     "metadata": {},
     "output_type": "execute_result"
    }
   ],
   "source": [
    "import torch\n",
    "from einops import rearrange,einsum\n",
    "\n",
    "t=torch.arange(10)\n",
    "theta=10000.0\n",
    "\n",
    "dim=5\n",
    "d=torch.arange(0,dim,2)/dim\n",
    "freqs=theta**-d\n",
    "print(freqs)\n",
    "freqs=einsum(t,freqs,\"t,f->t f\")\n",
    "print(freqs[1])\n",
    "cos, sin = torch.cos(freqs), torch.sin(freqs)\n",
    "torch.stack((cos, sin))"
   ]
  },
  {
   "cell_type": "code",
   "execution_count": 25,
   "id": "ba057504",
   "metadata": {},
   "outputs": [
    {
     "data": {
      "text/plain": [
       "tensor([[ True, False, False, False],\n",
       "        [ True,  True, False, False],\n",
       "        [ True,  True,  True, False],\n",
       "        [ True,  True,  True,  True]])"
      ]
     },
     "execution_count": 25,
     "metadata": {},
     "output_type": "execute_result"
    }
   ],
   "source": [
    "import torch\n",
    "import einx\n",
    "a=torch.arange(4)\n",
    "b=einx.rearrange('query -> query 1',a)\n",
    "c=einx.rearrange('key -> 1 key',a)\n",
    "b>=c"
   ]
  },
  {
   "cell_type": "code",
   "execution_count": 2,
   "id": "589352e3",
   "metadata": {},
   "outputs": [
    {
     "name": "stdout",
     "output_type": "stream",
     "text": [
      "tensor(10.0001)\n"
     ]
    }
   ],
   "source": [
    "import torch\n",
    "s = torch.tensor(0,dtype=torch.float32)\n",
    "for i in range(1000): \n",
    "    s += torch.tensor(0.01,dtype=torch.float32) \n",
    "print(s)"
   ]
  },
  {
   "cell_type": "code",
   "execution_count": 3,
   "id": "53d3b42f",
   "metadata": {},
   "outputs": [
    {
     "name": "stdout",
     "output_type": "stream",
     "text": [
      "tensor(9.9531, dtype=torch.float16)\n"
     ]
    }
   ],
   "source": [
    "s = torch.tensor(0,dtype=torch.float16) \n",
    "for i in range(1000): \n",
    "    s += torch.tensor(0.01,dtype=torch.float16) \n",
    "print(s)"
   ]
  },
  {
   "cell_type": "code",
   "execution_count": 4,
   "id": "3568b1c2",
   "metadata": {},
   "outputs": [
    {
     "name": "stdout",
     "output_type": "stream",
     "text": [
      "tensor(10.0021)\n"
     ]
    }
   ],
   "source": [
    "s = torch.tensor(0,dtype=torch.float32) \n",
    "for i in range(1000): \n",
    "    s += torch.tensor(0.01,dtype=torch.float16) \n",
    "print(s)"
   ]
  },
  {
   "cell_type": "code",
   "execution_count": 5,
   "id": "0dc4913b",
   "metadata": {},
   "outputs": [
    {
     "name": "stdout",
     "output_type": "stream",
     "text": [
      "tensor(10.0021)\n"
     ]
    }
   ],
   "source": [
    "s = torch.tensor(0,dtype=torch.float32) \n",
    "for i in range(1000): \n",
    "    x = torch.tensor(0.01,dtype=torch.float16) \n",
    "    s += x.type(torch.float32) \n",
    "print(s)"
   ]
  },
  {
   "cell_type": "code",
   "execution_count": 1,
   "id": "991d3c82",
   "metadata": {},
   "outputs": [],
   "source": [
    "from basics.model import BasicTransformerLM\n",
    "from basics.tokenizer import Tokenizer\n",
    "import numpy as np\n",
    "import torch\n",
    "\n",
    "model=BasicTransformerLM.from_pretrained(\"data/out/checkpoints\").to(\"mps\")\n",
    "\n",
    "vocab_path = 'data/tinystory/vocab.json' # 请替换为您的路径\n",
    "merges_path = 'data/tinystory/merge.txt'  # 请替换为您的路径\n",
    "special_tokens = ['<|endoftext|>'] # 示例特殊token\n",
    "\n",
    "tokenizer = Tokenizer.from_files(\n",
    "        vocab_filepath=vocab_path, \n",
    "        merges_filepath=merges_path, \n",
    "        special_tokens=special_tokens\n",
    "    )\n"
   ]
  },
  {
   "cell_type": "code",
   "execution_count": 20,
   "id": "12d9f399",
   "metadata": {},
   "outputs": [
    {
     "data": {
      "text/plain": [
       "' you can use to help me pick up get a fork. You can get my fork better. It is better to fall.\"\\nBen was happy to'"
      ]
     },
     "execution_count": 20,
     "metadata": {},
     "output_type": "execute_result"
    }
   ],
   "source": [
    "ids=tokenizer.encode(\"1\")\n",
    "ids=np.array(ids)\n",
    "ids=torch.stack([\n",
    "    torch.from_numpy(ids.astype(np.int64))\n",
    "]).to(\"mps\")\n",
    "tokenizer.decode(model.generate(ids,30)[0].tolist())\n"
   ]
  },
  {
   "cell_type": "code",
   "execution_count": 25,
   "id": "462337cd",
   "metadata": {},
   "outputs": [
    {
     "name": "stdout",
     "output_type": "stream",
     "text": [
      "1\n"
     ]
    }
   ],
   "source": [
    "y=torch.empty(2,4)\n",
    "y.stride(1)\n",
    "x=torch.empty(4,1)\n",
    "print(x.stride(0))"
   ]
  },
  {
   "cell_type": "code",
   "execution_count": null,
   "id": "3c00cacf",
   "metadata": {},
   "outputs": [],
   "source": []
  }
 ],
 "metadata": {
  "kernelspec": {
   "display_name": "llm",
   "language": "python",
   "name": "python3"
  },
  "language_info": {
   "codemirror_mode": {
    "name": "ipython",
    "version": 3
   },
   "file_extension": ".py",
   "mimetype": "text/x-python",
   "name": "python",
   "nbconvert_exporter": "python",
   "pygments_lexer": "ipython3",
   "version": "3.10.16"
  }
 },
 "nbformat": 4,
 "nbformat_minor": 5
}
